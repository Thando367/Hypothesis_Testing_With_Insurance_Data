{
 "cells": [
  {
   "cell_type": "code",
   "execution_count": 77,
   "id": "c5e5d555",
   "metadata": {},
   "outputs": [
    {
     "data": {
      "text/plain": [
       "'1.10.1'"
      ]
     },
     "execution_count": 77,
     "metadata": {},
     "output_type": "execute_result"
    }
   ],
   "source": [
    "import json\n",
    "import pandas as pd\n",
    "import numpy as np\n",
    "\n",
    "import matplotlib.pyplot as plt\n",
    "import seaborn as sns\n",
    "\n",
    "from scipy import stats\n",
    "from scipy.stats import chi2_contingency\n",
    "import scipy\n",
    "scipy.__version__"
   ]
  },
  {
   "cell_type": "code",
   "execution_count": 76,
   "id": "99d520c5",
   "metadata": {},
   "outputs": [
    {
     "data": {
      "text/html": [
       "<div>\n",
       "<style scoped>\n",
       "    .dataframe tbody tr th:only-of-type {\n",
       "        vertical-align: middle;\n",
       "    }\n",
       "\n",
       "    .dataframe tbody tr th {\n",
       "        vertical-align: top;\n",
       "    }\n",
       "\n",
       "    .dataframe thead th {\n",
       "        text-align: right;\n",
       "    }\n",
       "</style>\n",
       "<table border=\"1\" class=\"dataframe\">\n",
       "  <thead>\n",
       "    <tr style=\"text-align: right;\">\n",
       "      <th></th>\n",
       "      <th>age</th>\n",
       "      <th>sex</th>\n",
       "      <th>bmi</th>\n",
       "      <th>children</th>\n",
       "      <th>smoker</th>\n",
       "      <th>region</th>\n",
       "      <th>charges</th>\n",
       "    </tr>\n",
       "  </thead>\n",
       "  <tbody>\n",
       "    <tr>\n",
       "      <th>0</th>\n",
       "      <td>19</td>\n",
       "      <td>female</td>\n",
       "      <td>27.900</td>\n",
       "      <td>0</td>\n",
       "      <td>yes</td>\n",
       "      <td>southwest</td>\n",
       "      <td>16884.92400</td>\n",
       "    </tr>\n",
       "    <tr>\n",
       "      <th>1</th>\n",
       "      <td>18</td>\n",
       "      <td>male</td>\n",
       "      <td>33.770</td>\n",
       "      <td>1</td>\n",
       "      <td>no</td>\n",
       "      <td>southeast</td>\n",
       "      <td>1725.55230</td>\n",
       "    </tr>\n",
       "    <tr>\n",
       "      <th>2</th>\n",
       "      <td>28</td>\n",
       "      <td>male</td>\n",
       "      <td>33.000</td>\n",
       "      <td>3</td>\n",
       "      <td>no</td>\n",
       "      <td>southeast</td>\n",
       "      <td>4449.46200</td>\n",
       "    </tr>\n",
       "    <tr>\n",
       "      <th>3</th>\n",
       "      <td>33</td>\n",
       "      <td>male</td>\n",
       "      <td>22.705</td>\n",
       "      <td>0</td>\n",
       "      <td>no</td>\n",
       "      <td>northwest</td>\n",
       "      <td>21984.47061</td>\n",
       "    </tr>\n",
       "    <tr>\n",
       "      <th>4</th>\n",
       "      <td>32</td>\n",
       "      <td>male</td>\n",
       "      <td>28.880</td>\n",
       "      <td>0</td>\n",
       "      <td>no</td>\n",
       "      <td>northwest</td>\n",
       "      <td>3866.85520</td>\n",
       "    </tr>\n",
       "  </tbody>\n",
       "</table>\n",
       "</div>"
      ],
      "text/plain": [
       "   age     sex     bmi  children smoker     region      charges\n",
       "0   19  female  27.900         0    yes  southwest  16884.92400\n",
       "1   18    male  33.770         1     no  southeast   1725.55230\n",
       "2   28    male  33.000         3     no  southeast   4449.46200\n",
       "3   33    male  22.705         0     no  northwest  21984.47061\n",
       "4   32    male  28.880         0     no  northwest   3866.85520"
      ]
     },
     "execution_count": 76,
     "metadata": {},
     "output_type": "execute_result"
    }
   ],
   "source": [
    "# LOADING DATA\n",
    "df = pd.read_csv('https://docs.google.com/spreadsheets/d/e/2PACX-1vQBN8DPW2rdiRrY34eEM53HAzakNGSRrw4ogI-j8HyCUrbqTB_z4CeIn2IvjLF-w_6sOe5pIlypJGAA/pub?output=csv')\n",
    "df.head()\n"
   ]
  },
  {
   "cell_type": "markdown",
   "id": "2b961398",
   "metadata": {},
   "source": [
    "Q1. Do smokers have higher insurance charges than non-smokers?\n",
    "1. State your Null Hypothesis and Alternative Hypothesis\n",
    "    - Null Hypothesis -  There is no significant difference in insurance charges between smokers and non-smokers.\n",
    "    - Alternative Hypothesis - Smokers have significantly higher insurance charges than non-smokers.\n",
    "2. Select the correct test according to the data type and number of samples\n",
    "    - We will use t-Test to compare and two samples\n",
    "3. Test the assumptions of your selected test.\n",
    "    - Normality Check, Check Outliers and Varience check."
   ]
  },
  {
   "cell_type": "code",
   "execution_count": 46,
   "id": "31134e1d",
   "metadata": {},
   "outputs": [
    {
     "name": "stdout",
     "output_type": "stream",
     "text": [
      "<class 'pandas.core.frame.DataFrame'>\n",
      "RangeIndex: 1338 entries, 0 to 1337\n",
      "Data columns (total 7 columns):\n",
      " #   Column    Non-Null Count  Dtype  \n",
      "---  ------    --------------  -----  \n",
      " 0   age       1338 non-null   int64  \n",
      " 1   sex       1338 non-null   object \n",
      " 2   bmi       1338 non-null   float64\n",
      " 3   children  1338 non-null   int64  \n",
      " 4   smoker    1338 non-null   object \n",
      " 5   region    1338 non-null   object \n",
      " 6   charges   1338 non-null   float64\n",
      "dtypes: float64(2), int64(2), object(3)\n",
      "memory usage: 73.3+ KB\n"
     ]
    }
   ],
   "source": [
    "df.info()"
   ]
  },
  {
   "cell_type": "code",
   "execution_count": 47,
   "id": "987ffc10",
   "metadata": {},
   "outputs": [
    {
     "data": {
      "text/plain": [
       "age         0\n",
       "sex         0\n",
       "bmi         0\n",
       "children    0\n",
       "smoker      0\n",
       "region      0\n",
       "charges     0\n",
       "dtype: int64"
      ]
     },
     "execution_count": 47,
     "metadata": {},
     "output_type": "execute_result"
    }
   ],
   "source": [
    "df.isnull().sum()"
   ]
  },
  {
   "cell_type": "code",
   "execution_count": 48,
   "id": "0dd574a7",
   "metadata": {
    "scrolled": false
   },
   "outputs": [
    {
     "data": {
      "image/png": "[encoded data removed]",
      "text/plain": [
       "<Figure size 640x480 with 1 Axes>"
      ]
     },
     "metadata": {},
     "output_type": "display_data"
    }
   ],
   "source": [
    "sns.barplot(x='smoker', y='charges', data=df)\n",
    "plt.title('Insurance Charges for Smokers and Non-Smokers')\n",
    "plt.show()"
   ]
  },
  {
   "cell_type": "code",
   "execution_count": 49,
   "id": "a625908b",
   "metadata": {},
   "outputs": [],
   "source": [
    "# creating a subset for smokers charges and non somkers charges\n",
    "smokers_charges = df.loc[df['smoker'] == 'yes']['charges'].copy()\n",
    "non_smokers_charges = df.loc[df['smoker'] == 'no']['charges'].copy()"
   ]
  },
  {
   "cell_type": "code",
   "execution_count": 50,
   "id": "2679dbde",
   "metadata": {},
   "outputs": [
    {
     "name": "stdout",
     "output_type": "stream",
     "text": [
      "Mean charges for smokers: 32050.23183153284\n",
      "Mean charges for non-smokers: 8434.268297856204\n"
     ]
    }
   ],
   "source": [
    "# mean charges for each group\n",
    "mean_smokers = smokers_charges.mean()\n",
    "mean_non_smokers = non_smokers_charges.mean()\n",
    "\n",
    "# Print the results\n",
    "print(f\"Mean charges for smokers: {mean_smokers}\")\n",
    "print(f\"Mean charges for non-smokers: {mean_non_smokers}\")"
   ]
  },
  {
   "cell_type": "code",
   "execution_count": 51,
   "id": "2e014dc1",
   "metadata": {},
   "outputs": [
    {
     "name": "stdout",
     "output_type": "stream",
     "text": [
      "Mean charges for smokers: 32050.23183153284\n",
      "Mean charges for non-smokers: 8434.268297856204\n"
     ]
    }
   ],
   "source": [
    "# Descriptive statistics\n",
    "mean_smokers = smokers_charges.mean()\n",
    "mean_non_smokers = non_smokers_charges.mean()\n",
    "\n",
    "# Print the results\n",
    "print(f\"Mean charges for smokers: {mean_smokers}\")\n",
    "print(f\"Mean charges for non-smokers: {mean_non_smokers}\")"
   ]
  },
  {
   "cell_type": "code",
   "execution_count": 52,
   "id": "85cf2cd1",
   "metadata": {},
   "outputs": [
    {
     "data": {
      "text/plain": [
       "0     16884.9240\n",
       "11    27808.7251\n",
       "14    39611.7577\n",
       "19    36837.4670\n",
       "23    37701.8768\n",
       "Name: charges, dtype: float64"
      ]
     },
     "execution_count": 52,
     "metadata": {},
     "output_type": "execute_result"
    }
   ],
   "source": [
    "smokers_charges.head()"
   ]
  },
  {
   "cell_type": "code",
   "execution_count": 53,
   "id": "beba0be5",
   "metadata": {},
   "outputs": [
    {
     "data": {
      "text/plain": [
       "1     1725.55230\n",
       "2     4449.46200\n",
       "3    21984.47061\n",
       "4     3866.85520\n",
       "5     3756.62160\n",
       "Name: charges, dtype: float64"
      ]
     },
     "execution_count": 53,
     "metadata": {},
     "output_type": "execute_result"
    }
   ],
   "source": [
    "non_smokers_charges.head()"
   ]
  },
  {
   "cell_type": "code",
   "execution_count": 62,
   "id": "bec10e5a",
   "metadata": {},
   "outputs": [
    {
     "name": "stdout",
     "output_type": "stream",
     "text": [
      "There are 0 outliers.\n"
     ]
    }
   ],
   "source": [
    "# testing outliers in smokers_charges\n",
    "zscores_smokers = stats.zscore(smokers_charges)\n",
    "outliers_sm = abs(zscores_f)>3\n",
    "#np.sum(outliers_sm)\n",
    "\n",
    "print(f\"There are {np.sum(outliers_sm)} outliers.\")"
   ]
  },
  {
   "cell_type": "code",
   "execution_count": 55,
   "id": "fa238292",
   "metadata": {},
   "outputs": [
    {
     "name": "stdout",
     "output_type": "stream",
     "text": [
      "There are 24 outliers.\n"
     ]
    }
   ],
   "source": [
    "# testing outliers non_smokers_charges\n",
    "zscores_nsmokers = stats.zscore(non_smokers_charges)\n",
    "outliers_ns = abs(zscores_nsmokers)>3\n",
    "#np.sum(outliers_ns)\n",
    "\n",
    "print(f\"There are {np.sum(outliers_ns)} outliers.\")"
   ]
  },
  {
   "cell_type": "code",
   "execution_count": 56,
   "id": "c69aab05",
   "metadata": {},
   "outputs": [],
   "source": [
    "# removing outliers in non_smokers_charges\n",
    "non_smokers_charges = non_smokers_charges[(np.abs(stats.zscore(non_smokers_charges)) < 3)]\n"
   ]
  },
  {
   "cell_type": "code",
   "execution_count": 64,
   "id": "95373ca3",
   "metadata": {},
   "outputs": [
    {
     "name": "stdout",
     "output_type": "stream",
     "text": [
      "NormaltestResult(statistic=61.03941356533816, pvalue=5.564930630036463e-14)\n",
      "NormaltestResult(statistic=163.80367047789198, pvalue=2.6945416315543976e-36)\n"
     ]
    }
   ],
   "source": [
    "# Test for Normality\n",
    "result = stats.normaltest(smokers_charges)\n",
    "print(result)\n",
    "\n",
    "result = stats.normaltest(non_smokers_charges)\n",
    "print(result)"
   ]
  },
  {
   "cell_type": "markdown",
   "id": "808a5aae",
   "metadata": {},
   "source": [
    "pvalues for both groups is less than 0.05"
   ]
  },
  {
   "cell_type": "code",
   "execution_count": 65,
   "id": "b79be875",
   "metadata": {},
   "outputs": [
    {
     "data": {
      "text/plain": [
       "LeveneResult(statistic=520.7468821724297, pvalue=2.4247238784347824e-97)"
      ]
     },
     "execution_count": 65,
     "metadata": {},
     "output_type": "execute_result"
    }
   ],
   "source": [
    "# Test for equal variance\n",
    "result = stats.levene(smokers_charges, non_smokers_charges)\n",
    "result"
   ]
  },
  {
   "cell_type": "markdown",
   "id": "72827074",
   "metadata": {},
   "source": [
    "4. Execute the selected test, or the alternative test (if you do not meet the assumptions)"
   ]
  },
  {
   "cell_type": "code",
   "execution_count": 68,
   "id": "fce88580",
   "metadata": {},
   "outputs": [
    {
     "data": {
      "text/plain": [
       "Ttest_indResult(statistic=33.732305987092516, pvalue=2.575322662587431e-104)"
      ]
     },
     "execution_count": 68,
     "metadata": {},
     "output_type": "execute_result"
    }
   ],
   "source": [
    "# Independent t-test with equal_var set to False\n",
    "result = stats.ttest_ind(smokers_charges, non_smokers_charges, equal_var = False)\n",
    "result"
   ]
  },
  {
   "cell_type": "markdown",
   "id": "2d749bd5",
   "metadata": {},
   "source": [
    "5. Interpret your p-value and reject or fail to reject your null hypothesis\n",
    "    - pvalue is less than 0.05\n",
    "    - reject the null value, there's a difference in charges for both smoker and non smokers"
   ]
  },
  {
   "cell_type": "markdown",
   "id": "8b8a2a58",
   "metadata": {},
   "source": [
    "6. Show a supporting visualization that helps display the result"
   ]
  },
  {
   "cell_type": "code",
   "execution_count": 75,
   "id": "3f13e3c4",
   "metadata": {},
   "outputs": [
    {
     "data": {
      "image/png": "[encoded data removed]",
      "text/plain": [
       "<Figure size 1000x600 with 1 Axes>"
      ]
     },
     "metadata": {},
     "output_type": "display_data"
    }
   ],
   "source": [
    "# Boxplot\n",
    "plt.figure(figsize=(10, 6))\n",
    "sns.boxplot(x='smoker', y='charges', data=df, palette=['blue', 'green'])\n",
    "plt.title('Boxplot of Insurance Charges for Smokers and Non-Smokers')\n",
    "plt.show()"
   ]
  },
  {
   "cell_type": "markdown",
   "id": "85057add",
   "metadata": {},
   "source": [
    "Smokers have a higher number of charges compared to non smokers"
   ]
  },
  {
   "cell_type": "code",
   "execution_count": null,
   "id": "f2ff9cc5",
   "metadata": {},
   "outputs": [],
   "source": [
    "Q1. Do smokers have higher insurance charges than non-smokers?\n",
    "1. State your Null Hypothesis and Alternative Hypothesis\n",
    "    - Null Hypothesis (H0): Men and women are equally likely to smoke; there is no noticeable difference in the proportion of smokers between the two genders.\n",
    "    - Alternative Hypothesis (H1): Men and women are not equally likely to smoke; there is a noticeable difference in the proportion of smokers between the two genders.\n",
    "2. Select the correct test according to the data type and number of samples\n",
    "    - We will use Chi-Square testing to test\n",
    "    - Categorical Variables\n",
    "3. Test the assumptions of your selected test."
   ]
  },
  {
   "cell_type": "code",
   "execution_count": 83,
   "id": "5a63b94d",
   "metadata": {},
   "outputs": [
    {
     "data": {
      "text/html": [
       "<div>\n",
       "<style scoped>\n",
       "    .dataframe tbody tr th:only-of-type {\n",
       "        vertical-align: middle;\n",
       "    }\n",
       "\n",
       "    .dataframe tbody tr th {\n",
       "        vertical-align: top;\n",
       "    }\n",
       "\n",
       "    .dataframe thead th {\n",
       "        text-align: right;\n",
       "    }\n",
       "</style>\n",
       "<table border=\"1\" class=\"dataframe\">\n",
       "  <thead>\n",
       "    <tr style=\"text-align: right;\">\n",
       "      <th>smoker</th>\n",
       "      <th>no</th>\n",
       "      <th>yes</th>\n",
       "    </tr>\n",
       "    <tr>\n",
       "      <th>sex</th>\n",
       "      <th></th>\n",
       "      <th></th>\n",
       "    </tr>\n",
       "  </thead>\n",
       "  <tbody>\n",
       "    <tr>\n",
       "      <th>female</th>\n",
       "      <td>547</td>\n",
       "      <td>115</td>\n",
       "    </tr>\n",
       "    <tr>\n",
       "      <th>male</th>\n",
       "      <td>517</td>\n",
       "      <td>159</td>\n",
       "    </tr>\n",
       "  </tbody>\n",
       "</table>\n",
       "</div>"
      ],
      "text/plain": [
       "smoker   no  yes\n",
       "sex             \n",
       "female  547  115\n",
       "male    517  159"
      ]
     },
     "execution_count": 83,
     "metadata": {},
     "output_type": "execute_result"
    }
   ],
   "source": [
    "# calculate the contingency table with pd.cross-tab\n",
    "chi_table = pd.crosstab(df['sex'], df['smoker'])\n",
    "chi_table"
   ]
  },
  {
   "cell_type": "markdown",
   "id": "2540ab0d",
   "metadata": {},
   "source": [
    "4. Execute the selected test, or the alternative test (if you do not meet the assumptions)"
   ]
  },
  {
   "cell_type": "code",
   "execution_count": 84,
   "id": "e3672b9c",
   "metadata": {},
   "outputs": [],
   "source": [
    "# Run the Test and Save the Output\n",
    "chi_table = stats.chi2_contingency(chi_table)\n",
    "chi2, p, deg_free, expected_vals = chi_table #this labels the chi_table"
   ]
  },
  {
   "cell_type": "code",
   "execution_count": 85,
   "id": "611fc80f",
   "metadata": {},
   "outputs": [
    {
     "name": "stdout",
     "output_type": "stream",
     "text": [
      "0.006548143503580696\n"
     ]
    },
    {
     "data": {
      "text/plain": [
       "True"
      ]
     },
     "execution_count": 85,
     "metadata": {},
     "output_type": "execute_result"
    }
   ],
   "source": [
    "# What was our p-value?\n",
    "print(p)\n",
    "p<.05"
   ]
  },
  {
   "cell_type": "code",
   "execution_count": null,
   "id": "f816f1a3",
   "metadata": {},
   "outputs": [],
   "source": [
    "5. Interpret your p-value and reject or fail to reject your null hypothesis\n",
    "    - p-value is less than 0.05, we will reject our null hypothesis."
   ]
  },
  {
   "cell_type": "markdown",
   "id": "42f18c48",
   "metadata": {},
   "source": [
    "6. Show a supporting visualization that helps display the result"
   ]
  },
  {
   "cell_type": "code",
   "execution_count": 87,
   "id": "85fa9a48",
   "metadata": {},
   "outputs": [
    {
     "data": {
      "image/png": "[encoded data removed]",
      "text/plain": [
       "<Figure size 640x480 with 1 Axes>"
      ]
     },
     "metadata": {},
     "output_type": "display_data"
    }
   ],
   "source": [
    "ax = sns.countplot(data=df, x='sex',hue='smoker',)\n",
    "ax.set_title(\"Number of Smokers by Sex\");"
   ]
  },
  {
   "cell_type": "markdown",
   "id": "6c11a99d",
   "metadata": {},
   "source": [
    "Males are highly likely to be smokers.\n",
    "Females are less likely to be smokers."
   ]
  },
  {
   "cell_type": "code",
   "execution_count": null,
   "id": "14374c06",
   "metadata": {},
   "outputs": [],
   "source": [
    "Q3. Do different regions have different charges, on average?\n",
    "1. State your Null Hypothesis and Alternative Hypothesis\n",
    "    - Null Hypothesis (H0): There is no significant difference in insurance charges across different regions, the average charges are the same for all regions.\n",
    "    - There is a significant difference in insurance charges across different regions; the average charges vary among regions.\n",
    "2. Select the correct test according to the data type and number of samples\n",
    "    - We will use ANOVA to compare a continuous variable across more than two groups\n",
    "3. Test the assumptions of your selected test."
   ]
  },
  {
   "cell_type": "code",
   "execution_count": 89,
   "id": "9e3326b4",
   "metadata": {},
   "outputs": [
    {
     "data": {
      "text/plain": [
       "0       0.329043\n",
       "1       0.967187\n",
       "2       0.734274\n",
       "3       0.765090\n",
       "4       0.784091\n",
       "          ...   \n",
       "1333    0.208314\n",
       "1334    0.926108\n",
       "1335    0.975372\n",
       "1336    0.943041\n",
       "1337    1.377053\n",
       "Name: charges, Length: 1331, dtype: float64"
      ]
     },
     "execution_count": 89,
     "metadata": {},
     "output_type": "execute_result"
    }
   ],
   "source": [
    "# test for outliers\n",
    "zscores = np.abs(stats.zscore(df['charges']))\n",
    "df = df[zscores < 3]\n",
    "zscores"
   ]
  },
  {
   "cell_type": "code",
   "execution_count": 90,
   "id": "b226dc58",
   "metadata": {},
   "outputs": [
    {
     "data": {
      "text/plain": [
       "dict_keys(['southwest', 'southeast', 'northwest', 'northeast'])"
      ]
     },
     "execution_count": 90,
     "metadata": {},
     "output_type": "execute_result"
    }
   ],
   "source": [
    "# test for normality\n",
    "\n",
    "## Create groups dictionary. There are only 3 groups, but this is even more helpful when there are many groups\n",
    "groups = {}\n",
    "## Loop through all unique categories\n",
    "for i in df['region'].unique():\n",
    "    ## Get series for group and rename\n",
    "    data = df.loc[df['region']==i,'charges'].copy()\n",
    "    \n",
    "    # save into the dictionary\n",
    "    groups[i] = data\n",
    "groups.keys()"
   ]
  },
  {
   "cell_type": "code",
   "execution_count": 91,
   "id": "d2cfdf7e",
   "metadata": {},
   "outputs": [
    {
     "data": {
      "text/html": [
       "<div>\n",
       "<style scoped>\n",
       "    .dataframe tbody tr th:only-of-type {\n",
       "        vertical-align: middle;\n",
       "    }\n",
       "\n",
       "    .dataframe tbody tr th {\n",
       "        vertical-align: top;\n",
       "    }\n",
       "\n",
       "    .dataframe thead th {\n",
       "        text-align: right;\n",
       "    }\n",
       "</style>\n",
       "<table border=\"1\" class=\"dataframe\">\n",
       "  <thead>\n",
       "    <tr style=\"text-align: right;\">\n",
       "      <th></th>\n",
       "      <th>n</th>\n",
       "      <th>p</th>\n",
       "      <th>test stat</th>\n",
       "    </tr>\n",
       "  </thead>\n",
       "  <tbody>\n",
       "    <tr>\n",
       "      <th>southwest</th>\n",
       "      <td>321.0</td>\n",
       "      <td>1.957084e-22</td>\n",
       "      <td>99.970833</td>\n",
       "    </tr>\n",
       "    <tr>\n",
       "      <th>southeast</th>\n",
       "      <td>357.0</td>\n",
       "      <td>1.023992e-13</td>\n",
       "      <td>59.819794</td>\n",
       "    </tr>\n",
       "    <tr>\n",
       "      <th>northwest</th>\n",
       "      <td>323.0</td>\n",
       "      <td>9.182483e-21</td>\n",
       "      <td>92.273979</td>\n",
       "    </tr>\n",
       "    <tr>\n",
       "      <th>northeast</th>\n",
       "      <td>321.0</td>\n",
       "      <td>1.824004e-17</td>\n",
       "      <td>77.085825</td>\n",
       "    </tr>\n",
       "  </tbody>\n",
       "</table>\n",
       "</div>"
      ],
      "text/plain": [
       "               n             p  test stat\n",
       "southwest  321.0  1.957084e-22  99.970833\n",
       "southeast  357.0  1.023992e-13  59.819794\n",
       "northwest  323.0  9.182483e-21  92.273979\n",
       "northeast  321.0  1.824004e-17  77.085825"
      ]
     },
     "execution_count": 91,
     "metadata": {},
     "output_type": "execute_result"
    }
   ],
   "source": [
    "## Running normal test on each group and confirming there are >20 in each group\n",
    "norm_results = {}\n",
    "for i, data in groups.items():\n",
    "    stat, p = stats.normaltest(data)\n",
    "    ## save the p val, test statistic, and the size of the group\n",
    "    norm_results[i] = {'n': len(data),\n",
    "                             'p':p,\n",
    "                             'test stat':stat,}\n",
    "## convert to a dataframe\n",
    "norm_results_df = pd.DataFrame(norm_results).T\n",
    "norm_results_df"
   ]
  },
  {
   "cell_type": "code",
   "execution_count": 92,
   "id": "1e8fbf0c",
   "metadata": {},
   "outputs": [
    {
     "data": {
      "text/html": [
       "<div>\n",
       "<style scoped>\n",
       "    .dataframe tbody tr th:only-of-type {\n",
       "        vertical-align: middle;\n",
       "    }\n",
       "\n",
       "    .dataframe tbody tr th {\n",
       "        vertical-align: top;\n",
       "    }\n",
       "\n",
       "    .dataframe thead th {\n",
       "        text-align: right;\n",
       "    }\n",
       "</style>\n",
       "<table border=\"1\" class=\"dataframe\">\n",
       "  <thead>\n",
       "    <tr style=\"text-align: right;\">\n",
       "      <th></th>\n",
       "      <th>n</th>\n",
       "      <th>p</th>\n",
       "      <th>test stat</th>\n",
       "      <th>sig</th>\n",
       "    </tr>\n",
       "  </thead>\n",
       "  <tbody>\n",
       "    <tr>\n",
       "      <th>southwest</th>\n",
       "      <td>321.0</td>\n",
       "      <td>1.957084e-22</td>\n",
       "      <td>99.970833</td>\n",
       "      <td>True</td>\n",
       "    </tr>\n",
       "    <tr>\n",
       "      <th>southeast</th>\n",
       "      <td>357.0</td>\n",
       "      <td>1.023992e-13</td>\n",
       "      <td>59.819794</td>\n",
       "      <td>True</td>\n",
       "    </tr>\n",
       "    <tr>\n",
       "      <th>northwest</th>\n",
       "      <td>323.0</td>\n",
       "      <td>9.182483e-21</td>\n",
       "      <td>92.273979</td>\n",
       "      <td>True</td>\n",
       "    </tr>\n",
       "    <tr>\n",
       "      <th>northeast</th>\n",
       "      <td>321.0</td>\n",
       "      <td>1.824004e-17</td>\n",
       "      <td>77.085825</td>\n",
       "      <td>True</td>\n",
       "    </tr>\n",
       "  </tbody>\n",
       "</table>\n",
       "</div>"
      ],
      "text/plain": [
       "               n             p  test stat   sig\n",
       "southwest  321.0  1.957084e-22  99.970833  True\n",
       "southeast  357.0  1.023992e-13  59.819794  True\n",
       "northwest  323.0  9.182483e-21  92.273979  True\n",
       "northeast  321.0  1.824004e-17  77.085825  True"
      ]
     },
     "execution_count": 92,
     "metadata": {},
     "output_type": "execute_result"
    }
   ],
   "source": [
    "### checking sig with pandas \n",
    "norm_results_df['sig'] = norm_results_df['p'] < .05 \n",
    "norm_results_df"
   ]
  },
  {
   "cell_type": "code",
   "execution_count": 93,
   "id": "f63f6430",
   "metadata": {},
   "outputs": [
    {
     "data": {
      "text/plain": [
       "LeveneResult(statistic=4.765422999767639, pvalue=0.0026147448169723925)"
      ]
     },
     "execution_count": 93,
     "metadata": {},
     "output_type": "execute_result"
    }
   ],
   "source": [
    "# with the * operator \n",
    "#Checking for Equal Variance\n",
    "stats.levene(*groups.values())"
   ]
  },
  {
   "cell_type": "markdown",
   "id": "369176e8",
   "metadata": {},
   "source": [
    "The pvalues in these groups are less than 0.05, we are rejecting the null hypothesis.\n",
    "The charges are not the same accross the regions"
   ]
  },
  {
   "cell_type": "code",
   "execution_count": null,
   "id": "d658ef0e",
   "metadata": {},
   "outputs": [],
   "source": [
    "4. Execute the selected test, or the alternative test (if you do not meet the assumptions)\n",
    "There is no equal varience "
   ]
  },
  {
   "cell_type": "code",
   "execution_count": 94,
   "id": "b59a0bb9",
   "metadata": {},
   "outputs": [
    {
     "data": {
      "text/plain": [
       "KruskalResult(statistic=4.7638872422175975, pvalue=0.1899257157085212)"
      ]
     },
     "execution_count": 94,
     "metadata": {},
     "output_type": "execute_result"
    }
   ],
   "source": [
    "result = stats.kruskal( *groups.values())\n",
    "result"
   ]
  },
  {
   "cell_type": "code",
   "execution_count": null,
   "id": "e2f753e1",
   "metadata": {},
   "outputs": [],
   "source": [
    "5. Interpret your p-value and reject or fail to reject your null hypothesis \n",
    "    - The resuls from kruskal-Wallis test have a value that is greater than 0.05\n",
    "    - We wont reject the null hypothesis\n",
    "    - Therefore, there is no significant difference in insurance charges across different regions, the average charges are the same for all regions."
   ]
  },
  {
   "cell_type": "code",
   "execution_count": null,
   "id": "4f4cc26c",
   "metadata": {},
   "outputs": [],
   "source": [
    "6. Show a supporting visualization that helps display the result\n"
   ]
  },
  {
   "cell_type": "code",
   "execution_count": 95,
   "id": "12dda601",
   "metadata": {},
   "outputs": [
    {
     "data": {
      "image/png": "[encoded data removed]",
      "text/plain": [
       "<Figure size 640x480 with 1 Axes>"
      ]
     },
     "metadata": {},
     "output_type": "display_data"
    }
   ],
   "source": [
    "sns.barplot(data=df, x='region',y='charges');"
   ]
  },
  {
   "cell_type": "code",
   "execution_count": null,
   "id": "15fee922",
   "metadata": {},
   "outputs": [],
   "source": []
  }
 ],
 "metadata": {
  "kernelspec": {
   "display_name": "Python (dojo-env)",
   "language": "python",
   "name": "dojo-env"
  },
  "language_info": {
   "codemirror_mode": {
    "name": "ipython",
    "version": 3
   },
   "file_extension": ".py",
   "mimetype": "text/x-python",
   "name": "python",
   "nbconvert_exporter": "python",
   "pygments_lexer": "ipython3",
   "version": "3.10.10"
  }
 },
 "nbformat": 4,
 "nbformat_minor": 5
}
